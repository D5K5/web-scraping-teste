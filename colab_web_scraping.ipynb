{
  "nbformat": 4,
  "nbformat_minor": 0,
  "metadata": {
    "colab": {
      "name": "colab-web-scraping.ipynb",
      "provenance": [],
      "authorship_tag": "ABX9TyNt417xrH3TS7cfRp2TunnP",
      "include_colab_link": true
    },
    "kernelspec": {
      "name": "python3",
      "display_name": "Python 3"
    },
    "language_info": {
      "name": "python"
    }
  },
  "cells": [
    {
      "cell_type": "markdown",
      "metadata": {
        "id": "view-in-github",
        "colab_type": "text"
      },
      "source": [
        "<a href=\"https://colab.research.google.com/github/D5K5/web-scraping-teste/blob/main/colab_web_scraping.ipynb\" target=\"_parent\"><img src=\"https://colab.research.google.com/assets/colab-badge.svg\" alt=\"Open In Colab\"/></a>"
      ]
    },
    {
      "cell_type": "markdown",
      "source": [
        "# Importando pacotes"
      ],
      "metadata": {
        "id": "SP9FxXlX5ZTy"
      }
    },
    {
      "cell_type": "code",
      "source": [
        "from bs4 import BeautifulSoup as bs\n",
        "import requests as rq\n",
        "import re"
      ],
      "metadata": {
        "id": "eqVgrdwr4CA-"
      },
      "execution_count": 29,
      "outputs": []
    },
    {
      "cell_type": "markdown",
      "source": [
        "# Pegando HTML do site"
      ],
      "metadata": {
        "id": "vie4GAgt52ZG"
      }
    },
    {
      "cell_type": "code",
      "source": [
        "html = rq.get(\"http://webscraping.andreregino.com.br\")\n",
        "html_editado = bs(html.content)"
      ],
      "metadata": {
        "id": "kqW_8tBn6IG8"
      },
      "execution_count": 10,
      "outputs": []
    },
    {
      "cell_type": "code",
      "source": [
        "one_h2 = html_editado.find(\"h2\").text\n",
        "print(one_h2)"
      ],
      "metadata": {
        "colab": {
          "base_uri": "https://localhost:8080/"
        },
        "id": "ooNjcTJJ9O2s",
        "outputId": "98c79c6d-aa95-4e07-fc87-3c7afebd953b"
      },
      "execution_count": 16,
      "outputs": [
        {
          "output_type": "stream",
          "name": "stdout",
          "text": [
            "Para que aprender Git?\n"
          ]
        }
      ]
    },
    {
      "cell_type": "code",
      "source": [
        "h2s = html_editado.find_all([\"h3\", \"h2\", \"h1\"])\n",
        "for h2 in h2s:\n",
        "  print(h2.text)"
      ],
      "metadata": {
        "colab": {
          "base_uri": "https://localhost:8080/"
        },
        "id": "eKI33Pac-YhM",
        "outputId": "0bbd2726-baac-42ca-f719-bac298fb1a7d"
      },
      "execution_count": 21,
      "outputs": [
        {
          "output_type": "stream",
          "name": "stdout",
          "text": [
            "\n",
            "\t\t\t\t\t\t    E-book Git e GitHubSeu Código Versionado\n",
            "\t\t\t\t\t    \n",
            "Para que aprender Git?\n",
            "Para que aprender GitHub?\n",
            "Quais os Benefícios deste E-book?\n",
            "Praticidade na Hora do \"Mão na Massa\"\n",
            "Aprendizado dos Principais Comandos Usados\n",
            "Aplicável a Qualquer Linguagem de Programação\n",
            "Dicas Valiosas de Quem tem Experiência em Versionamento\n",
            "Clone de Repositórios Famosos\n",
            "Diferencial na Entrevista de Emprego\n",
            "Quais os Tópicos?\n",
            "Quais os Tópicos?\n",
            "Para Quem é Esse Livro\n",
            "Quais os Pré Requisitos\n",
            "Reviews\n",
            "Sobre o Autor\n",
            "Investimento\n",
            "de R$89,90\n",
            "4x de R$9,90\n"
          ]
        }
      ]
    },
    {
      "cell_type": "markdown",
      "source": [
        "# Pegando Classes e IDs"
      ],
      "metadata": {
        "id": "biC4ck1YAciC"
      }
    },
    {
      "cell_type": "code",
      "source": [
        "preco = html_editado.find_all(\"h1\", class_=\"card-title pricing-card-title\")\n",
        "print(preco)\n",
        "requisito = html_editado.find(id=\"pre-requisite-section\")\n",
        "print(requisito)"
      ],
      "metadata": {
        "colab": {
          "base_uri": "https://localhost:8080/"
        },
        "id": "qhnIc8O5ApDj",
        "outputId": "9e7589a2-ef70-4b18-91c8-07f28c633e46"
      },
      "execution_count": 27,
      "outputs": [
        {
          "output_type": "stream",
          "name": "stdout",
          "text": [
            "[<h1 class=\"card-title pricing-card-title\"><small class=\"text-muted\">4x de </small><span style=\"color: green\">R$9,90</span></h1>]\n",
            "<section class=\"pre-requisite-section\" id=\"pre-requisite-section\">\n",
            "<div class=\"container\">\n",
            "<div class=\"lead-form-wrapper single-col-max mx-auto theme-bg-light rounded p-5\">\n",
            "<h2 class=\"form-heading text-center\">Quais os Pré Requisitos</h2>\n",
            "<div class=\"form-intro text-center mb-3\">Nenhum, somente sua vontade de aprender.</div>\n",
            "</div><!--//lead-form-wrapper-->\n",
            "</div><!--//container-->\n",
            "</section>\n"
          ]
        }
      ]
    },
    {
      "cell_type": "markdown",
      "source": [
        "# Filtro de texto"
      ],
      "metadata": {
        "id": "37_NmXvyCu1v"
      }
    },
    {
      "cell_type": "code",
      "source": [
        "h2s = html_editado.find_all([\"h2\", \"h1\"], text=re.compile(\"Para que aprender\"))\n",
        "for h2 in h2s:\n",
        "  print(h2.text)"
      ],
      "metadata": {
        "colab": {
          "base_uri": "https://localhost:8080/"
        },
        "id": "Y2qD8qLVC1I-",
        "outputId": "0c25796f-e31e-40bc-8ff4-33ee57985a13"
      },
      "execution_count": 30,
      "outputs": [
        {
          "output_type": "stream",
          "name": "stdout",
          "text": [
            "Para que aprender Git?\n",
            "Para que aprender GitHub?\n"
          ]
        }
      ]
    },
    {
      "cell_type": "code",
      "source": [
        "button = html_editado.find(class_=\"price\").a\n",
        "print(button[\"href\"])"
      ],
      "metadata": {
        "colab": {
          "base_uri": "https://localhost:8080/"
        },
        "id": "BOnM1fuaEgeD",
        "outputId": "d5e77e50-1652-44c1-bb0d-c104dd11eb12"
      },
      "execution_count": 33,
      "outputs": [
        {
          "output_type": "stream",
          "name": "stdout",
          "text": [
            "https://payment.hotmart.com/R54638781B?checkoutMode=10\n"
          ]
        }
      ]
    },
    {
      "cell_type": "code",
      "source": [
        "image = html_editado.find(\"img\")\n",
        "print(image[\"src\"])"
      ],
      "metadata": {
        "colab": {
          "base_uri": "https://localhost:8080/"
        },
        "id": "reK2Fv-PF7Bc",
        "outputId": "bdd5612f-d0fb-47fc-af67-79e022eff612"
      },
      "execution_count": 36,
      "outputs": [
        {
          "output_type": "stream",
          "name": "stdout",
          "text": [
            "assets/images/capa-ebook-git-github.png\n"
          ]
        }
      ]
    },
    {
      "cell_type": "code",
      "source": [
        "lists = html_editado.find(\"section\", class_=\"content-section\").ul\n",
        "print(lists)"
      ],
      "metadata": {
        "colab": {
          "base_uri": "https://localhost:8080/"
        },
        "id": "XtdVhIXhG6oa",
        "outputId": "80f95745-ae89-4455-e8fa-3598533b1748"
      },
      "execution_count": 46,
      "outputs": [
        {
          "output_type": "stream",
          "name": "stdout",
          "text": [
            "<ul class=\"key-points-list list-unstyled mb-4 mx-auto d-inline-block text-left\">\n",
            "<li><i class=\"fas fa-check-circle mr-2\"></i>Instalação do Git e Criação de Conta no GitHub</li>\n",
            "<li><i class=\"fas fa-check-circle mr-2\"></i>Adicionar, Excluir e Listar  Modificações de Código</li>\n",
            "<li><i class=\"fas fa-check-circle mr-2\"></i>Receber, Enviar, Verificar e Resetar Modificações de Código</li>\n",
            "<li><i class=\"fas fa-check-circle mr-2\"></i>Lidar com Conflitos e Clonar Projetos Públicos</li>\n",
            "</ul>\n"
          ]
        }
      ]
    },
    {
      "cell_type": "code",
      "source": [
        "li_4 = html_editado.select(\".content-section ul li:nth-of-type(4)\")\n",
        "print(li_4)"
      ],
      "metadata": {
        "colab": {
          "base_uri": "https://localhost:8080/"
        },
        "id": "1yjHpbKjIqMs",
        "outputId": "695637f0-d92d-4f9b-80d1-4ed27f847ce5"
      },
      "execution_count": 45,
      "outputs": [
        {
          "output_type": "stream",
          "name": "stdout",
          "text": [
            "[<li><i class=\"fas fa-check-circle mr-2\"></i>Lidar com Conflitos e Clonar Projetos Públicos</li>]\n"
          ]
        }
      ]
    }
  ]
}